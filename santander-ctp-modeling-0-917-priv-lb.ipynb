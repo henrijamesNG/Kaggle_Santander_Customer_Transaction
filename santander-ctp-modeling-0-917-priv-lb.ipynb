{
 "cells": [
  {
   "cell_type": "markdown",
   "metadata": {
    "papermill": {
     "duration": 0.008845,
     "end_time": "2021-05-07T22:19:04.024654",
     "exception": false,
     "start_time": "2021-05-07T22:19:04.015809",
     "status": "completed"
    },
    "tags": []
   },
   "source": [
    "---\n",
    "# MODELING\n",
    "---\n",
    "\n",
    "Link to the feature engineering part : [Feature Engineering - Customer Transaction Santander](https://www.kaggle.com/jamesngoa/santander-ctp-feature-engineering)\n",
    "\n",
    "EDA : [EDA - Customer Transaction Santander](https://www.kaggle.com/jamesngoa/eda-customer-transaction)"
   ]
  },
  {
   "cell_type": "code",
   "execution_count": 1,
   "metadata": {
    "execution": {
     "iopub.execute_input": "2021-05-07T22:19:04.051530Z",
     "iopub.status.busy": "2021-05-07T22:19:04.050784Z",
     "iopub.status.idle": "2021-05-07T22:19:06.283917Z",
     "shell.execute_reply": "2021-05-07T22:19:06.283065Z"
    },
    "papermill": {
     "duration": 2.251365,
     "end_time": "2021-05-07T22:19:06.284071",
     "exception": false,
     "start_time": "2021-05-07T22:19:04.032706",
     "status": "completed"
    },
    "tags": []
   },
   "outputs": [
    {
     "data": {
      "text/html": [
       "<style type='text/css'>\n",
       ".datatable table.frame { margin-bottom: 0; }\n",
       ".datatable table.frame thead { border-bottom: none; }\n",
       ".datatable table.frame tr.coltypes td {  color: #FFFFFF;  line-height: 6px;  padding: 0 0.5em;}\n",
       ".datatable .bool    { background: #DDDD99; }\n",
       ".datatable .object  { background: #565656; }\n",
       ".datatable .int     { background: #5D9E5D; }\n",
       ".datatable .float   { background: #4040CC; }\n",
       ".datatable .str     { background: #CC4040; }\n",
       ".datatable .row_index {  background: var(--jp-border-color3);  border-right: 1px solid var(--jp-border-color0);  color: var(--jp-ui-font-color3);  font-size: 9px;}\n",
       ".datatable .frame tr.coltypes .row_index {  background: var(--jp-border-color0);}\n",
       ".datatable th:nth-child(2) { padding-left: 12px; }\n",
       ".datatable .hellipsis {  color: var(--jp-cell-editor-border-color);}\n",
       ".datatable .vellipsis {  background: var(--jp-layout-color0);  color: var(--jp-cell-editor-border-color);}\n",
       ".datatable .na {  color: var(--jp-cell-editor-border-color);  font-size: 80%;}\n",
       ".datatable .footer { font-size: 9px; }\n",
       ".datatable .frame_dimensions {  background: var(--jp-border-color3);  border-top: 1px solid var(--jp-border-color0);  color: var(--jp-ui-font-color3);  display: inline-block;  opacity: 0.6;  padding: 1px 10px 1px 5px;}\n",
       "</style>\n"
      ],
      "text/plain": [
       "<IPython.core.display.HTML object>"
      ]
     },
     "metadata": {},
     "output_type": "display_data"
    }
   ],
   "source": [
    "import numpy as np # linear algebra\n",
    "import pandas as pd # data processing, CSV file I/O (e.g. pd.read_csv)\n",
    "from sklearn.model_selection import StratifiedKFold\n",
    "from sklearn.metrics import roc_auc_score\n",
    "import xgboost as xgb\n",
    "import lightgbm as lgb"
   ]
  },
  {
   "cell_type": "code",
   "execution_count": 2,
   "metadata": {
    "execution": {
     "iopub.execute_input": "2021-05-07T22:19:06.309683Z",
     "iopub.status.busy": "2021-05-07T22:19:06.308839Z",
     "iopub.status.idle": "2021-05-07T22:19:32.594068Z",
     "shell.execute_reply": "2021-05-07T22:19:32.594547Z"
    },
    "papermill": {
     "duration": 26.301032,
     "end_time": "2021-05-07T22:19:32.594728",
     "exception": false,
     "start_time": "2021-05-07T22:19:06.293696",
     "status": "completed"
    },
    "tags": []
   },
   "outputs": [],
   "source": [
    "train = pd.read_csv('../input/ct-datasets/final_train (1).csv')\n",
    "test = pd.read_csv('../input/ct-datasets/final_test (1).csv')\n",
    "\n",
    "y = train['target']\n",
    "train = train.iloc[:, :-1]\n",
    "\n",
    "remaining_test = pd.read_csv('../input/test-ctr/fake_test.csv')[['ID_code']]\n",
    "remaining_test['target'] = 0\n",
    "\n",
    "test_index = test.ID_code\n",
    "test = test.drop('ID_code', axis=1)"
   ]
  },
  {
   "cell_type": "markdown",
   "metadata": {
    "papermill": {
     "duration": 0.008689,
     "end_time": "2021-05-07T22:19:32.612219",
     "exception": false,
     "start_time": "2021-05-07T22:19:32.603530",
     "status": "completed"
    },
    "tags": []
   },
   "source": [
    "## Training the LGBM model"
   ]
  },
  {
   "cell_type": "code",
   "execution_count": 3,
   "metadata": {
    "execution": {
     "iopub.execute_input": "2021-05-07T22:19:32.633532Z",
     "iopub.status.busy": "2021-05-07T22:19:32.632831Z",
     "iopub.status.idle": "2021-05-07T22:19:32.637665Z",
     "shell.execute_reply": "2021-05-07T22:19:32.638125Z"
    },
    "papermill": {
     "duration": 0.016879,
     "end_time": "2021-05-07T22:19:32.638298",
     "exception": false,
     "start_time": "2021-05-07T22:19:32.621419",
     "status": "completed"
    },
    "tags": []
   },
   "outputs": [],
   "source": [
    "lgb_params = {\n",
    "\"objective\" : \"binary\",\n",
    "\"metric\" : \"auc\",\n",
    "\"boosting\": 'gbdt',\n",
    "\"max_depth\" : 1,\n",
    "\"num_leaves\" : 13,\n",
    "\"learning_rate\" : 0.03,\n",
    "\"bagging_freq\": 5,\n",
    "\"bagging_fraction\" : 0.4,\n",
    "\"feature_fraction\" : 0.05,\n",
    "\"min_data_in_leaf\": 80,\n",
    "\"min_sum_hessian_in_leaf\": 10,\n",
    "\"tree_learner\": \"serial\",\n",
    "\"boost_from_average\": \"false\",\n",
    "\"bagging_seed\" : 42,\n",
    "\"verbosity\" : 1,\n",
    "\"seed\": 42\n",
    "}"
   ]
  },
  {
   "cell_type": "code",
   "execution_count": 4,
   "metadata": {
    "execution": {
     "iopub.execute_input": "2021-05-07T22:19:32.659824Z",
     "iopub.status.busy": "2021-05-07T22:19:32.659185Z",
     "iopub.status.idle": "2021-05-07T23:38:52.048658Z",
     "shell.execute_reply": "2021-05-07T23:38:52.049206Z"
    },
    "papermill": {
     "duration": 4759.402273,
     "end_time": "2021-05-07T23:38:52.049578",
     "exception": false,
     "start_time": "2021-05-07T22:19:32.647305",
     "status": "completed"
    },
    "tags": []
   },
   "outputs": [
    {
     "name": "stdout",
     "output_type": "stream",
     "text": [
      "Fold 0\n",
      "[LightGBM] [Info] Number of positive: 16079, number of negative: 143921\n",
      "[LightGBM] [Warning] Auto-choosing row-wise multi-threading, the overhead of testing was 0.085329 seconds.\n",
      "You can set `force_row_wise=true` to remove the overhead.\n",
      "And if memory is not enough, you can set `force_col_wise=true`.\n",
      "[LightGBM] [Info] Total Bins 101539\n",
      "[LightGBM] [Info] Number of data points in the train set: 160000, number of used features: 403\n",
      "Training until validation scores don't improve for 200 rounds\n",
      "[1000]\ttraining's auc: 0.870071\tvalid_1's auc: 0.867352\n",
      "[2000]\ttraining's auc: 0.890455\tvalid_1's auc: 0.886399\n",
      "[3000]\ttraining's auc: 0.901828\tvalid_1's auc: 0.897216\n",
      "[4000]\ttraining's auc: 0.90923\tvalid_1's auc: 0.903503\n",
      "[5000]\ttraining's auc: 0.914537\tvalid_1's auc: 0.908175\n",
      "[6000]\ttraining's auc: 0.918468\tvalid_1's auc: 0.911594\n",
      "[7000]\ttraining's auc: 0.921445\tvalid_1's auc: 0.913907\n",
      "[8000]\ttraining's auc: 0.924053\tvalid_1's auc: 0.91597\n",
      "[9000]\ttraining's auc: 0.926026\tvalid_1's auc: 0.917472\n",
      "[10000]\ttraining's auc: 0.927768\tvalid_1's auc: 0.918633\n",
      "[11000]\ttraining's auc: 0.929152\tvalid_1's auc: 0.919511\n",
      "[12000]\ttraining's auc: 0.930393\tvalid_1's auc: 0.920318\n",
      "[13000]\ttraining's auc: 0.931452\tvalid_1's auc: 0.920781\n",
      "[14000]\ttraining's auc: 0.932426\tvalid_1's auc: 0.92111\n",
      "Early stopping, best iteration is:\n",
      "[14279]\ttraining's auc: 0.932666\tvalid_1's auc: 0.921235\n",
      "Fold 1\n",
      "[LightGBM] [Info] Number of positive: 16079, number of negative: 143921\n",
      "[LightGBM] [Warning] Auto-choosing row-wise multi-threading, the overhead of testing was 0.084512 seconds.\n",
      "You can set `force_row_wise=true` to remove the overhead.\n",
      "And if memory is not enough, you can set `force_col_wise=true`.\n",
      "[LightGBM] [Info] Total Bins 101543\n",
      "[LightGBM] [Info] Number of data points in the train set: 160000, number of used features: 403\n",
      "Training until validation scores don't improve for 200 rounds\n",
      "[1000]\ttraining's auc: 0.870499\tvalid_1's auc: 0.866913\n",
      "[2000]\ttraining's auc: 0.8905\tvalid_1's auc: 0.885131\n",
      "[3000]\ttraining's auc: 0.902229\tvalid_1's auc: 0.895916\n",
      "[4000]\ttraining's auc: 0.90962\tvalid_1's auc: 0.902182\n",
      "[5000]\ttraining's auc: 0.914865\tvalid_1's auc: 0.906599\n",
      "[6000]\ttraining's auc: 0.918894\tvalid_1's auc: 0.909776\n",
      "[7000]\ttraining's auc: 0.921897\tvalid_1's auc: 0.912043\n",
      "[8000]\ttraining's auc: 0.924481\tvalid_1's auc: 0.91385\n",
      "[9000]\ttraining's auc: 0.926603\tvalid_1's auc: 0.915347\n",
      "[10000]\ttraining's auc: 0.928264\tvalid_1's auc: 0.916252\n",
      "[11000]\ttraining's auc: 0.92983\tvalid_1's auc: 0.917121\n",
      "[12000]\ttraining's auc: 0.931061\tvalid_1's auc: 0.91768\n",
      "[13000]\ttraining's auc: 0.932172\tvalid_1's auc: 0.918145\n",
      "[14000]\ttraining's auc: 0.933091\tvalid_1's auc: 0.918562\n",
      "[15000]\ttraining's auc: 0.933953\tvalid_1's auc: 0.918873\n",
      "Did not meet early stopping. Best iteration is:\n",
      "[15000]\ttraining's auc: 0.933953\tvalid_1's auc: 0.918873\n",
      "Fold 2\n",
      "[LightGBM] [Info] Number of positive: 16078, number of negative: 143922\n",
      "[LightGBM] [Warning] Auto-choosing row-wise multi-threading, the overhead of testing was 0.087067 seconds.\n",
      "You can set `force_row_wise=true` to remove the overhead.\n",
      "And if memory is not enough, you can set `force_col_wise=true`.\n",
      "[LightGBM] [Info] Total Bins 101526\n",
      "[LightGBM] [Info] Number of data points in the train set: 160000, number of used features: 403\n",
      "Training until validation scores don't improve for 200 rounds\n",
      "[1000]\ttraining's auc: 0.870631\tvalid_1's auc: 0.865862\n",
      "[2000]\ttraining's auc: 0.890436\tvalid_1's auc: 0.884941\n",
      "[3000]\ttraining's auc: 0.902163\tvalid_1's auc: 0.896041\n",
      "[4000]\ttraining's auc: 0.909582\tvalid_1's auc: 0.902784\n",
      "[5000]\ttraining's auc: 0.914695\tvalid_1's auc: 0.90732\n",
      "[6000]\ttraining's auc: 0.918562\tvalid_1's auc: 0.910474\n",
      "[7000]\ttraining's auc: 0.921704\tvalid_1's auc: 0.912984\n",
      "[8000]\ttraining's auc: 0.924147\tvalid_1's auc: 0.914717\n",
      "[9000]\ttraining's auc: 0.926191\tvalid_1's auc: 0.915995\n",
      "[10000]\ttraining's auc: 0.927845\tvalid_1's auc: 0.917057\n",
      "[11000]\ttraining's auc: 0.929384\tvalid_1's auc: 0.917807\n",
      "[12000]\ttraining's auc: 0.930707\tvalid_1's auc: 0.918399\n",
      "[13000]\ttraining's auc: 0.931808\tvalid_1's auc: 0.918914\n",
      "Early stopping, best iteration is:\n",
      "[13159]\ttraining's auc: 0.931933\tvalid_1's auc: 0.918976\n",
      "Fold 3\n",
      "[LightGBM] [Info] Number of positive: 16078, number of negative: 143922\n",
      "[LightGBM] [Warning] Auto-choosing row-wise multi-threading, the overhead of testing was 0.085878 seconds.\n",
      "You can set `force_row_wise=true` to remove the overhead.\n",
      "And if memory is not enough, you can set `force_col_wise=true`.\n",
      "[LightGBM] [Info] Total Bins 101541\n",
      "[LightGBM] [Info] Number of data points in the train set: 160000, number of used features: 403\n",
      "Training until validation scores don't improve for 200 rounds\n",
      "[1000]\ttraining's auc: 0.869846\tvalid_1's auc: 0.868752\n",
      "[2000]\ttraining's auc: 0.889853\tvalid_1's auc: 0.887154\n",
      "[3000]\ttraining's auc: 0.901762\tvalid_1's auc: 0.897776\n",
      "[4000]\ttraining's auc: 0.909189\tvalid_1's auc: 0.9042\n",
      "[5000]\ttraining's auc: 0.914453\tvalid_1's auc: 0.90859\n",
      "[6000]\ttraining's auc: 0.918506\tvalid_1's auc: 0.911978\n",
      "[7000]\ttraining's auc: 0.921495\tvalid_1's auc: 0.914332\n",
      "[8000]\ttraining's auc: 0.92396\tvalid_1's auc: 0.916162\n",
      "[9000]\ttraining's auc: 0.925942\tvalid_1's auc: 0.917641\n",
      "[10000]\ttraining's auc: 0.927655\tvalid_1's auc: 0.918527\n",
      "[11000]\ttraining's auc: 0.929141\tvalid_1's auc: 0.919452\n",
      "[12000]\ttraining's auc: 0.930382\tvalid_1's auc: 0.920111\n",
      "[13000]\ttraining's auc: 0.931461\tvalid_1's auc: 0.920685\n",
      "[14000]\ttraining's auc: 0.932398\tvalid_1's auc: 0.921115\n",
      "Early stopping, best iteration is:\n",
      "[14675]\ttraining's auc: 0.933018\tvalid_1's auc: 0.921396\n",
      "Fold 4\n",
      "[LightGBM] [Info] Number of positive: 16078, number of negative: 143922\n",
      "[LightGBM] [Warning] Auto-choosing row-wise multi-threading, the overhead of testing was 0.087149 seconds.\n",
      "You can set `force_row_wise=true` to remove the overhead.\n",
      "And if memory is not enough, you can set `force_col_wise=true`.\n",
      "[LightGBM] [Info] Total Bins 101524\n",
      "[LightGBM] [Info] Number of data points in the train set: 160000, number of used features: 403\n",
      "Training until validation scores don't improve for 200 rounds\n",
      "[1000]\ttraining's auc: 0.870633\tvalid_1's auc: 0.866421\n",
      "[2000]\ttraining's auc: 0.890501\tvalid_1's auc: 0.884758\n",
      "[3000]\ttraining's auc: 0.902414\tvalid_1's auc: 0.89552\n",
      "[4000]\ttraining's auc: 0.909721\tvalid_1's auc: 0.902146\n",
      "[5000]\ttraining's auc: 0.914886\tvalid_1's auc: 0.906189\n",
      "[6000]\ttraining's auc: 0.918861\tvalid_1's auc: 0.909581\n",
      "[7000]\ttraining's auc: 0.921817\tvalid_1's auc: 0.912012\n",
      "[8000]\ttraining's auc: 0.924296\tvalid_1's auc: 0.913687\n",
      "[9000]\ttraining's auc: 0.926297\tvalid_1's auc: 0.914997\n",
      "[10000]\ttraining's auc: 0.928001\tvalid_1's auc: 0.916131\n",
      "[11000]\ttraining's auc: 0.929444\tvalid_1's auc: 0.917015\n",
      "[12000]\ttraining's auc: 0.930737\tvalid_1's auc: 0.917663\n",
      "[13000]\ttraining's auc: 0.931852\tvalid_1's auc: 0.918217\n",
      "[14000]\ttraining's auc: 0.932755\tvalid_1's auc: 0.918619\n",
      "[15000]\ttraining's auc: 0.933622\tvalid_1's auc: 0.918972\n",
      "Did not meet early stopping. Best iteration is:\n",
      "[15000]\ttraining's auc: 0.933622\tvalid_1's auc: 0.918972\n",
      "CV score: 0.91987 \n"
     ]
    }
   ],
   "source": [
    "folds = StratifiedKFold(n_splits=5, shuffle=True, random_state=44000)\n",
    "oof = np.zeros(len(train))\n",
    "predictions = np.zeros(len(test))\n",
    "\n",
    "for fold_, (trn_idx, val_idx) in enumerate(folds.split(train.values, y.values)):\n",
    "    print(\"Fold {}\".format(fold_))\n",
    "    trn_data = lgb.Dataset(train.iloc[trn_idx], label=y.iloc[trn_idx])\n",
    "    val_data = lgb.Dataset(train.iloc[val_idx], label=y.iloc[val_idx])\n",
    "\n",
    "    num_round = 15000\n",
    "    clf = lgb.train(lgb_params, trn_data, num_round, valid_sets = [trn_data, val_data],\n",
    "                    verbose_eval=1000, early_stopping_rounds = 200)\n",
    "    oof[val_idx] = clf.predict(train.iloc[val_idx], num_iteration=clf.best_iteration)\n",
    "    \n",
    "    predictions += clf.predict(test, num_iteration=clf.best_iteration) / folds.n_splits\n",
    "\n",
    "print(\"CV score: {:<8.5f}\".format(roc_auc_score(y, oof)))"
   ]
  },
  {
   "cell_type": "markdown",
   "metadata": {
    "papermill": {
     "duration": 0.038297,
     "end_time": "2021-05-07T23:38:52.125519",
     "exception": false,
     "start_time": "2021-05-07T23:38:52.087222",
     "status": "completed"
    },
    "tags": []
   },
   "source": [
    "## Submission"
   ]
  },
  {
   "cell_type": "code",
   "execution_count": 5,
   "metadata": {
    "execution": {
     "iopub.execute_input": "2021-05-07T23:38:52.204535Z",
     "iopub.status.busy": "2021-05-07T23:38:52.203803Z",
     "iopub.status.idle": "2021-05-07T23:38:52.362481Z",
     "shell.execute_reply": "2021-05-07T23:38:52.363041Z"
    },
    "papermill": {
     "duration": 0.200316,
     "end_time": "2021-05-07T23:38:52.363216",
     "exception": false,
     "start_time": "2021-05-07T23:38:52.162900",
     "status": "completed"
    },
    "tags": []
   },
   "outputs": [],
   "source": [
    "sub_file = pd.read_csv('/kaggle/input/santander-customer-transaction-prediction/sample_submission.csv')"
   ]
  },
  {
   "cell_type": "code",
   "execution_count": 6,
   "metadata": {
    "execution": {
     "iopub.execute_input": "2021-05-07T23:38:52.442683Z",
     "iopub.status.busy": "2021-05-07T23:38:52.441977Z",
     "iopub.status.idle": "2021-05-07T23:38:52.722330Z",
     "shell.execute_reply": "2021-05-07T23:38:52.721782Z"
    },
    "papermill": {
     "duration": 0.321381,
     "end_time": "2021-05-07T23:38:52.722481",
     "exception": false,
     "start_time": "2021-05-07T23:38:52.401100",
     "status": "completed"
    },
    "tags": []
   },
   "outputs": [
    {
     "data": {
      "text/html": [
       "<div>\n",
       "<style scoped>\n",
       "    .dataframe tbody tr th:only-of-type {\n",
       "        vertical-align: middle;\n",
       "    }\n",
       "\n",
       "    .dataframe tbody tr th {\n",
       "        vertical-align: top;\n",
       "    }\n",
       "\n",
       "    .dataframe thead th {\n",
       "        text-align: right;\n",
       "    }\n",
       "</style>\n",
       "<table border=\"1\" class=\"dataframe\">\n",
       "  <thead>\n",
       "    <tr style=\"text-align: right;\">\n",
       "      <th></th>\n",
       "      <th>ID_code</th>\n",
       "      <th>target</th>\n",
       "    </tr>\n",
       "  </thead>\n",
       "  <tbody>\n",
       "    <tr>\n",
       "      <th>0</th>\n",
       "      <td>test_0</td>\n",
       "      <td>0.000000</td>\n",
       "    </tr>\n",
       "    <tr>\n",
       "      <th>1</th>\n",
       "      <td>test_1</td>\n",
       "      <td>0.000000</td>\n",
       "    </tr>\n",
       "    <tr>\n",
       "      <th>2</th>\n",
       "      <td>test_2</td>\n",
       "      <td>0.000000</td>\n",
       "    </tr>\n",
       "    <tr>\n",
       "      <th>3</th>\n",
       "      <td>test_3</td>\n",
       "      <td>0.096064</td>\n",
       "    </tr>\n",
       "    <tr>\n",
       "      <th>4</th>\n",
       "      <td>test_4</td>\n",
       "      <td>0.000000</td>\n",
       "    </tr>\n",
       "    <tr>\n",
       "      <th>...</th>\n",
       "      <td>...</td>\n",
       "      <td>...</td>\n",
       "    </tr>\n",
       "    <tr>\n",
       "      <th>199995</th>\n",
       "      <td>test_199995</td>\n",
       "      <td>0.056167</td>\n",
       "    </tr>\n",
       "    <tr>\n",
       "      <th>199996</th>\n",
       "      <td>test_199996</td>\n",
       "      <td>0.018735</td>\n",
       "    </tr>\n",
       "    <tr>\n",
       "      <th>199997</th>\n",
       "      <td>test_199997</td>\n",
       "      <td>0.000000</td>\n",
       "    </tr>\n",
       "    <tr>\n",
       "      <th>199998</th>\n",
       "      <td>test_199998</td>\n",
       "      <td>0.000000</td>\n",
       "    </tr>\n",
       "    <tr>\n",
       "      <th>199999</th>\n",
       "      <td>test_199999</td>\n",
       "      <td>0.024892</td>\n",
       "    </tr>\n",
       "  </tbody>\n",
       "</table>\n",
       "<p>200000 rows × 2 columns</p>\n",
       "</div>"
      ],
      "text/plain": [
       "            ID_code    target\n",
       "0            test_0  0.000000\n",
       "1            test_1  0.000000\n",
       "2            test_2  0.000000\n",
       "3            test_3  0.096064\n",
       "4            test_4  0.000000\n",
       "...             ...       ...\n",
       "199995  test_199995  0.056167\n",
       "199996  test_199996  0.018735\n",
       "199997  test_199997  0.000000\n",
       "199998  test_199998  0.000000\n",
       "199999  test_199999  0.024892\n",
       "\n",
       "[200000 rows x 2 columns]"
      ]
     },
     "execution_count": 6,
     "metadata": {},
     "output_type": "execute_result"
    }
   ],
   "source": [
    "# Our predictions for the real data\n",
    "sub = pd.DataFrame()\n",
    "sub['ID_code'] = test_index\n",
    "sub['target'] = predictions\n",
    "\n",
    "\n",
    "final_sub = pd.merge(sub_file, sub, on='ID_code', how='left')[['ID_code', 'target_y']]\n",
    "final_sub = final_sub.fillna(0).rename(columns={'target_y': 'target'})\n",
    "final_sub"
   ]
  },
  {
   "cell_type": "code",
   "execution_count": 7,
   "metadata": {
    "execution": {
     "iopub.execute_input": "2021-05-07T23:38:52.805224Z",
     "iopub.status.busy": "2021-05-07T23:38:52.804183Z",
     "iopub.status.idle": "2021-05-07T23:38:53.465885Z",
     "shell.execute_reply": "2021-05-07T23:38:53.466412Z"
    },
    "papermill": {
     "duration": 0.705502,
     "end_time": "2021-05-07T23:38:53.466616",
     "exception": false,
     "start_time": "2021-05-07T23:38:52.761114",
     "status": "completed"
    },
    "tags": []
   },
   "outputs": [],
   "source": [
    "final_sub.to_csv('Finalsub.csv', index=False)"
   ]
  }
 ],
 "metadata": {
  "kernelspec": {
   "display_name": "Python 3",
   "language": "python",
   "name": "python3"
  },
  "language_info": {
   "codemirror_mode": {
    "name": "ipython",
    "version": 3
   },
   "file_extension": ".py",
   "mimetype": "text/x-python",
   "name": "python",
   "nbconvert_exporter": "python",
   "pygments_lexer": "ipython3",
   "version": "3.8.5"
  },
  "papermill": {
   "default_parameters": {},
   "duration": 4799.217214,
   "end_time": "2021-05-07T23:38:54.963033",
   "environment_variables": {},
   "exception": null,
   "input_path": "__notebook__.ipynb",
   "output_path": "__notebook__.ipynb",
   "parameters": {},
   "start_time": "2021-05-07T22:18:55.745819",
   "version": "2.3.3"
  }
 },
 "nbformat": 4,
 "nbformat_minor": 5
}
